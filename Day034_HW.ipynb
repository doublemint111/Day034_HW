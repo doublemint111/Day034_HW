{
 "cells": [
  {
   "cell_type": "markdown",
   "metadata": {},
   "source": [
    "反爬：代理伺服器/IP"
   ]
  },
  {
   "cell_type": "code",
   "execution_count": 1,
   "metadata": {},
   "outputs": [],
   "source": [
    "from bs4 import BeautifulSoup\n",
    "import requests\n",
    "import random"
   ]
  },
  {
   "cell_type": "code",
   "execution_count": 9,
   "metadata": {},
   "outputs": [
    {
     "name": "stdout",
     "output_type": "stream",
     "text": [
      "['89.251.70.61:46086', '58.162.229.173:51536', '165.227.215.71:8080', '103.194.88.21:32195', '138.197.157.44:8080', '207.154.231.217:3128', '119.81.199.84:31288', '180.252.181.3:80', '138.197.204.55:8080', '165.227.215.62:8080', '5.252.161.48:8080', '154.16.202.22:8080', '207.154.231.211:3128', '88.198.24.108:8080', '188.226.141.127:3128', '103.239.254.114:52450', '188.226.141.211:3128', '162.243.108.129:3128', '93.88.216.51:41983', '138.197.157.60:3128', '45.55.27.15:8080', '5.140.233.194:40025', '138.197.157.45:8080', '109.238.222.5:31049', '162.243.107.120:8080', '202.131.234.142:38616', '138.197.145.103:8080', '144.217.163.138:8080', '67.205.149.230:8080', '198.199.119.119:3128', '139.59.53.106:8080', '188.166.83.20:3128', '103.250.157.43:38641', '195.170.15.66:8080', '200.105.179.186:47232', '139.59.62.255:3128', '139.59.53.107:3128', '45.55.27.161:3128', '117.103.5.186:44825', '188.40.183.186:1080', '154.16.63.16:8080', '139.59.59.63:8080', '1.179.148.9:49060', '45.236.170.6:3282', '67.205.132.241:8080', '41.169.78.42:54372', '51.158.123.250:8811', '119.81.199.82:8123', '138.68.41.90:3128', '46.175.185.239:32314', '138.197.222.35:8080', '119.81.199.86:8123', '119.81.199.80:8123', '102.129.249.120:8080', '138.68.161.60:8080', '138.68.173.29:8080', '139.59.99.63:3128', '159.203.91.6:8080', '188.166.83.34:3128', '203.202.254.206:32938', '181.118.167.104:80', '51.158.186.242:8811', '5.23.103.98:42328', '176.98.95.105:61360', '46.160.237.93:54864', '162.243.108.141:3128', '176.9.119.170:8080', '45.55.9.218:8080', '188.166.83.13:3128', '138.68.165.154:3128', '138.68.161.14:3128', '94.230.149.73:46220', '178.62.193.19:3128', '139.59.53.105:3128', '1.20.101.62:47985', '192.241.245.207:3128', '177.136.168.13:43626', '174.128.6.13:3128', '139.59.109.156:3128', '159.65.151.96:8080', '67.205.146.29:8080', '139.59.64.9:8080', '103.220.207.242:32227', '139.59.169.246:3128', '139.59.61.229:8080', '207.154.231.213:8080', '45.55.23.78:3128', '185.196.117.234:8080', '117.196.236.101:48359', '103.212.92.225:55234', '45.177.133.140:8080', '3.95.210.35:3128', '144.91.116.171:443', '5.202.192.150:8080', '186.219.214.14:46383', '152.250.243.179:50296', '46.158.182.38:53281', '200.46.129.114:37490', '207.180.253.122:80', '182.48.81.222:46157']\n"
     ]
    }
   ],
   "source": [
    "proxy_ips = []\n",
    "\n",
    "# 對 https://free-proxy-list.net/ 發送請求，並從表格中整理出免費的代理伺服器\n",
    "\n",
    "headers = {'User-Agent': 'Mozilla/5.0 (Macintosh; Intel Mac OS X 10_11_5) AppleWebKit/537.36 (KHTML, like Gecko) Cafari/537.36'}\n",
    "url = 'https://free-proxy-list.net/'\n",
    "response = requests.get(url, headers=headers)\n",
    "soup = BeautifulSoup(response.text, 'lxml')\n",
    "\n",
    "for tr in soup.find('tbody').find_all('tr')[:100]:\n",
    "    proxy = tr.find_all('td')[0].text + ':' + tr.find_all('td')[1].text\n",
    "    proxy_ips.append(proxy)\n",
    "    \n",
    "print(proxy_ips)"
   ]
  },
  {
   "cell_type": "code",
   "execution_count": 10,
   "metadata": {},
   "outputs": [
    {
     "name": "stdout",
     "output_type": "stream",
     "text": [
      "Use 89.251.70.61:46086\n",
      "Fail\n",
      "Use 58.162.229.173:51536\n",
      "Fail\n",
      "Use 165.227.215.71:8080\n",
      "Your IP address: 165.227.215.71\n",
      "Use 103.194.88.21:32195\n",
      "Fail\n",
      "Use 138.197.157.44:8080\n",
      "Your IP address: 138.197.157.44\n",
      "Use 207.154.231.217:3128\n",
      "Your IP address: 207.154.231.217\n",
      "Use 119.81.199.84:31288\n",
      "Fail\n",
      "Use 180.252.181.3:80\n",
      "Your IP address: 180.250.12.19\n",
      "Use 138.197.204.55:8080\n",
      "Your IP address: 138.197.204.55\n",
      "Use 165.227.215.62:8080\n",
      "Your IP address: 165.227.215.62\n",
      "['165.227.215.71:8080', '138.197.157.44:8080', '207.154.231.217:3128', '180.252.181.3:80', '138.197.204.55:8080', '165.227.215.62:8080']\n"
     ]
    }
   ],
   "source": [
    "# 將免費的代理伺服器，發送至 http://ip.filefab.com/index.php 找出可用的代理伺服器\n",
    "\n",
    "available_proxies = []\n",
    "\n",
    "for i in range(100):\n",
    "    ip = proxy_ips[i]\n",
    "    print('Use', ip)\n",
    "    try:\n",
    "        resp = requests.get('http://ip.filefab.com/index.php',\n",
    "                        proxies={'http': ip, 'https': ip}, timeout=10)\n",
    "        soup = BeautifulSoup(resp.text, 'html5lib')\n",
    "        print(soup.find('h1', id='ipd').text.strip())\n",
    "        available_proxies.append(ip)\n",
    "        if len(available_proxies) > 5:\n",
    "            break\n",
    "    except:\n",
    "        print('Fail')\n",
    "    \n",
    "print(available_proxies)"
   ]
  },
  {
   "cell_type": "code",
   "execution_count": 12,
   "metadata": {},
   "outputs": [
    {
     "name": "stdout",
     "output_type": "stream",
     "text": [
      "Use 165.227.215.71:8080\n",
      "Fail\n",
      "Use 138.197.157.44:8080\n",
      "Fail\n",
      "Use 207.154.231.217:3128\n",
      "Fail\n",
      "Use 180.252.181.3:80\n",
      "Fail\n",
      "Use 138.197.204.55:8080\n",
      "Fail\n",
      "Use 165.227.215.62:8080\n",
      "Fail\n"
     ]
    }
   ],
   "source": [
    "# 將前面找出的可用代理伺服器，再發送至 https://httpbin.org/ip 查看是否代理（偷換 IP）成功\n",
    "\n",
    "for ip in available_proxies:\n",
    "    print('Use', ip)\n",
    "    try:\n",
    "        resp = requests.get('https://httpbin.org/ip',\n",
    "                        proxies={'http': ip, 'https': ip}, timeout=10)\n",
    "        print(resp.json())\n",
    "    except:\n",
    "        print('Fail')"
   ]
  },
  {
   "cell_type": "code",
   "execution_count": null,
   "metadata": {},
   "outputs": [],
   "source": []
  }
 ],
 "metadata": {
  "kernelspec": {
   "display_name": "Python 3",
   "language": "python",
   "name": "python3"
  },
  "language_info": {
   "codemirror_mode": {
    "name": "ipython",
    "version": 3
   },
   "file_extension": ".py",
   "mimetype": "text/x-python",
   "name": "python",
   "nbconvert_exporter": "python",
   "pygments_lexer": "ipython3",
   "version": "3.7.4"
  }
 },
 "nbformat": 4,
 "nbformat_minor": 2
}
